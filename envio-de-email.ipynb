{
 "cells": [
  {
   "cell_type": "markdown",
   "id": "8f583976",
   "metadata": {},
   "source": [
    "# Automação de Sistemas  Processos com Python"
   ]
  },
  {
   "cell_type": "code",
   "execution_count": 10,
   "id": "8810ed41",
   "metadata": {},
   "outputs": [],
   "source": [
    "import pyautogui\n",
    "import pyperclip\n",
    "import time\n",
    "\n",
    "pyautogui.PAUSE = 0.5\n",
    "\n",
    "#passo 1: entrar no sistema/link\n",
    "pyautogui.hotkey('ctrl', 't')\n",
    "pyautogui.write('https://drive.google.com/drive/my-drive')\n",
    "pyautogui.press('enter')\n",
    "\n",
    "time.sleep(5)\n",
    "\n",
    "#passo 2: fazer o download do relatório\n",
    "pyautogui.click(x=361, y=378)\n",
    "pyautogui.click(x=1394, y=184)\n",
    "pyautogui.click(x=1205, y=563)\n",
    "\n",
    "#passo 3: calcular os indicadores\n",
    "#passo 4: entrar no email\n",
    "#passo 5: enviar o email"
   ]
  },
  {
   "cell_type": "code",
   "execution_count": 3,
   "id": "f704624a",
   "metadata": {},
   "outputs": [
    {
     "name": "stdout",
     "output_type": "stream",
     "text": [
      "Requirement already satisfied: pyperclip in c:\\users\\usuario\\anaconda\\lib\\site-packages (1.8.2)\n"
     ]
    }
   ],
   "source": [
    "!pip install pyperclip"
   ]
  },
  {
   "cell_type": "code",
   "execution_count": 9,
   "id": "b44930ab",
   "metadata": {},
   "outputs": [
    {
     "data": {
      "text/plain": [
       "Point(x=361, y=378)"
      ]
     },
     "execution_count": 9,
     "metadata": {},
     "output_type": "execute_result"
    }
   ],
   "source": [
    "import pyautogui\n",
    "import time\n",
    "\n",
    "time.sleep(5)\n",
    "pyautogui.position()"
   ]
  },
  {
   "cell_type": "code",
   "execution_count": null,
   "id": "1c02aea6",
   "metadata": {},
   "outputs": [],
   "source": []
  },
  {
   "cell_type": "code",
   "execution_count": null,
   "id": "40040d13",
   "metadata": {},
   "outputs": [],
   "source": []
  }
 ],
 "metadata": {
  "kernelspec": {
   "display_name": "Python 3 (ipykernel)",
   "language": "python",
   "name": "python3"
  },
  "language_info": {
   "codemirror_mode": {
    "name": "ipython",
    "version": 3
   },
   "file_extension": ".py",
   "mimetype": "text/x-python",
   "name": "python",
   "nbconvert_exporter": "python",
   "pygments_lexer": "ipython3",
   "version": "3.9.12"
  }
 },
 "nbformat": 4,
 "nbformat_minor": 5
}
