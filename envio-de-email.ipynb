{
 "cells": [
  {
   "cell_type": "markdown",
   "id": "8f583976",
   "metadata": {},
   "source": [
    "# Automação de Sistemas  Processos com Python"
   ]
  },
  {
   "cell_type": "code",
   "execution_count": 2,
   "id": "8810ed41",
   "metadata": {},
   "outputs": [
    {
     "ename": "NameError",
     "evalue": "name 'puautogui' is not defined",
     "output_type": "error",
     "traceback": [
      "\u001b[1;31m---------------------------------------------------------------------------\u001b[0m",
      "\u001b[1;31mNameError\u001b[0m                                 Traceback (most recent call last)",
      "Input \u001b[1;32mIn [2]\u001b[0m, in \u001b[0;36m<cell line: 7>\u001b[1;34m()\u001b[0m\n\u001b[0;32m      5\u001b[0m \u001b[38;5;66;03m#passo 1: entrar no sistema/link\u001b[39;00m\n\u001b[0;32m      6\u001b[0m pyautogui\u001b[38;5;241m.\u001b[39mhotkey(\u001b[38;5;124m'\u001b[39m\u001b[38;5;124mctrl\u001b[39m\u001b[38;5;124m'\u001b[39m, \u001b[38;5;124m'\u001b[39m\u001b[38;5;124mt\u001b[39m\u001b[38;5;124m'\u001b[39m)\n\u001b[1;32m----> 7\u001b[0m \u001b[43mpuautogui\u001b[49m\u001b[38;5;241m.\u001b[39mwrite(\u001b[38;5;124m'\u001b[39m\u001b[38;5;124mhttps://drive.google.com/drive/folders/14oLE59U1RqyRqlBbKpsyymW-mitvbtoh\u001b[39m\u001b[38;5;124m'\u001b[39m)\n\u001b[0;32m      8\u001b[0m pyautogui\u001b[38;5;241m.\u001b[39mpress(\u001b[38;5;124m'\u001b[39m\u001b[38;5;124menter\u001b[39m\u001b[38;5;124m'\u001b[39m)\n",
      "\u001b[1;31mNameError\u001b[0m: name 'puautogui' is not defined"
     ]
    }
   ],
   "source": [
    "import pyautogui\n",
    "import pyperclip\n",
    "import time\n",
    "\n",
    "#passo 1: entrar no sistema/link\n",
    "pyautogui.hotkey('ctrl', 't')\n",
    "puautogui.write('https://drive.google.com/drive/folders/14oLE59U1RqyRqlBbKpsyymW-mitvbtoh')\n",
    "pyautogui.press('enter')\n",
    "\n",
    "#passo 2: navegar até o local do relatório\n",
    "#passo 3: fazer o download do relatório\n",
    "#passo 4: calcular os indicadores\n",
    "#passo 5: entrar no email\n",
    "#passo 6: enviar o email"
   ]
  },
  {
   "cell_type": "code",
   "execution_count": 3,
   "id": "f704624a",
   "metadata": {},
   "outputs": [
    {
     "name": "stdout",
     "output_type": "stream",
     "text": [
      "Requirement already satisfied: pyperclip in c:\\users\\usuario\\anaconda\\lib\\site-packages (1.8.2)\n"
     ]
    }
   ],
   "source": [
    "!pip install pyperclip"
   ]
  },
  {
   "cell_type": "code",
   "execution_count": null,
   "id": "b44930ab",
   "metadata": {},
   "outputs": [],
   "source": []
  }
 ],
 "metadata": {
  "kernelspec": {
   "display_name": "Python 3 (ipykernel)",
   "language": "python",
   "name": "python3"
  },
  "language_info": {
   "codemirror_mode": {
    "name": "ipython",
    "version": 3
   },
   "file_extension": ".py",
   "mimetype": "text/x-python",
   "name": "python",
   "nbconvert_exporter": "python",
   "pygments_lexer": "ipython3",
   "version": "3.9.12"
  }
 },
 "nbformat": 4,
 "nbformat_minor": 5
}
