{
 "cells": [
  {
   "cell_type": "markdown",
   "id": "8f583976",
   "metadata": {},
   "source": [
    "# Automação de Sistemas  Processos com Python"
   ]
  },
  {
   "cell_type": "code",
   "execution_count": null,
   "id": "3b2f4cc8",
   "metadata": {},
   "outputs": [],
   "source": [
    "import pyautogui\n"
   ]
  }
 ],
 "metadata": {
  "kernelspec": {
   "display_name": "Python 3 (ipykernel)",
   "language": "python",
   "name": "python3"
  },
  "language_info": {
   "codemirror_mode": {
    "name": "ipython",
    "version": 3
   },
   "file_extension": ".py",
   "mimetype": "text/x-python",
   "name": "python",
   "nbconvert_exporter": "python",
   "pygments_lexer": "ipython3",
   "version": "3.9.12"
  }
 },
 "nbformat": 4,
 "nbformat_minor": 5
}
